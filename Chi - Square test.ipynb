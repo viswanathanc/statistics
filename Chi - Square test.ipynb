{
 "cells": [
  {
   "cell_type": "markdown",
   "metadata": {},
   "source": [
    "# Chi Square test\n",
    "\n",
    "  Chi Square test is a non parametric statistical test to identify whether there is a significant difference between the distribution of expected and observed values. This test is used in feature selection for machine learning. This can be used to see how significant a feature in predicting the dependent variable.\n",
    "  \n",
    "  In this test we will perform Chi Square test to see whether a given coin is biased or not.\n",
    "  \n",
    "* **Null Hypothesis (H0): The Coin is unbiased.**\n",
    "* **Alternate Hypothesis (H1) : The coin may be biased.**\n",
    "\n",
    "If we throw the coin for 30 times, we will expect 15 heads and 15 tails. If we get 16 heads and 14 tails, we are sure that it is by chance and with that alone we cannot say the coin is unbiased! What if we have 18 heads and 12 tails? Is it by chance? We need a metrics to find it. This is where we are in need of Chi square test.\n",
    "\n",
    "\n",
    "Ref: https://www.youtube.com/watch?v=qYOMO83Z1WU\n",
    "     https://towardsdatascience.com/running-chi-square-tests-in-python-with-die-roll-data-b9903817c51b"
   ]
  },
  {
   "cell_type": "code",
   "execution_count": 25,
   "metadata": {},
   "outputs": [],
   "source": [
    "import numpy as np\n",
    "Expected = np.array([15,15])\n",
    "Observed = np.array([18,12])"
   ]
  },
  {
   "cell_type": "markdown",
   "metadata": {},
   "source": [
    " We will find the chi square as the sum of variances of each class.\n",
    " \n",
    " $\\chi^{2} = \\Sigma\\frac{(Exp-Obs)^{2}}{Exp}$"
   ]
  },
  {
   "cell_type": "code",
   "execution_count": 26,
   "metadata": {},
   "outputs": [
    {
     "data": {
      "text/plain": [
       "1.2"
      ]
     },
     "execution_count": 26,
     "metadata": {},
     "output_type": "execute_result"
    }
   ],
   "source": [
    "Chi_sq = sum( (Expected-Observed)**2/Expected )\n",
    "Chi_sq"
   ]
  },
  {
   "cell_type": "markdown",
   "metadata": {},
   "source": [
    "   Here Chi square value for the two lists is 1.2. The degree of freedom is 1 (since we can determine the number of observed tails given the number of observed heads). P value can be calculated from this."
   ]
  },
  {
   "cell_type": "code",
   "execution_count": 29,
   "metadata": {},
   "outputs": [
    {
     "data": {
      "text/plain": [
       "0.273321678292295"
      ]
     },
     "execution_count": 29,
     "metadata": {},
     "output_type": "execute_result"
    }
   ],
   "source": [
    "from scipy.stats.distributions import chi2\n",
    "chi2.sf(Chi_sq,1)"
   ]
  },
  {
   "cell_type": "markdown",
   "metadata": {},
   "source": [
    "  We are 27.33% confident that the coin is unbiased and it is not significant enough to reject the null hypothesis! \n",
    "  \n",
    "  So far we have done a one sample Chi square test. We will also perform chi-square for 5 samples. Suppose for five samples we get 12,11,19,15,18 heads respectively and we have to perform the same Chi-square test with the same hypothesis. We expect an unbiased output.\n",
    "  \n",
    " note: Scipy package is used here."
   ]
  },
  {
   "cell_type": "code",
   "execution_count": 59,
   "metadata": {},
   "outputs": [],
   "source": [
    "Observed=np.array([\n",
    "                  [12,18],\n",
    "                  [11,19],\n",
    "                  [19,11],\n",
    "                  [15,15],\n",
    "                  [18,12]])"
   ]
  },
  {
   "cell_type": "code",
   "execution_count": 62,
   "metadata": {},
   "outputs": [
    {
     "name": "stdout",
     "output_type": "stream",
     "text": [
      "Chi square value is  6.666666666666666\n",
      "P value is 0.1545873045047604\n",
      "Degrees of Freedom: 4\n"
     ]
    }
   ],
   "source": [
    "from scipy import stats\n",
    "\n",
    "chi2_stat, p_val, dof, ex = stats.chi2_contingency(Observed)\n",
    "\n",
    "print(\"Chi square value is \",chi2_stat)\n",
    "print(\"P value is\",p_val)\n",
    "print(\"Degrees of Freedom:\",dof)"
   ]
  },
  {
   "cell_type": "markdown",
   "metadata": {},
   "source": [
    "   Now the Chi square value is 6.67. And we have 15% possibilty to get the number of heads and tails with a biased coin. So this is insignificant to reject null hypothesis and we cannot say the coin is biased.\n",
    "   \n",
    "Note: Degree of freedom is 4, since 5x2 matrix will have a degree of freedom of 4x1."
   ]
  }
 ],
 "metadata": {
  "kernelspec": {
   "display_name": "Python 3",
   "language": "python",
   "name": "python3"
  },
  "language_info": {
   "codemirror_mode": {
    "name": "ipython",
    "version": 3
   },
   "file_extension": ".py",
   "mimetype": "text/x-python",
   "name": "python",
   "nbconvert_exporter": "python",
   "pygments_lexer": "ipython3",
   "version": "3.6.9"
  }
 },
 "nbformat": 4,
 "nbformat_minor": 2
}
